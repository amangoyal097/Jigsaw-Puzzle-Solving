{
 "cells": [
  {
   "cell_type": "code",
   "execution_count": 1,
   "metadata": {},
   "outputs": [],
   "source": [
    "import cv2\n",
    "import random\n",
    "import numpy as np\n",
    "import torch\n",
    "from torch.utils.data import Dataset, DataLoader\n",
    "import torchvision.transforms as transforms\n",
    "import os"
   ]
  },
  {
   "cell_type": "code",
   "execution_count": 2,
   "metadata": {},
   "outputs": [],
   "source": [
    "\n",
    "\n",
    "def shuffle_image(img,windowSize):\n",
    "\trows,cols,depth = img.shape\n",
    "\tpiece_rows = rows // windowSize\n",
    "\tpiece_cols = cols // windowSize\n",
    "\trows -= rows % windowSize\n",
    "\tcols -= cols % windowSize\n",
    "\tnew_image = np.zeros((rows,cols,depth))\n",
    "\n",
    "\t\n",
    "\tpieces = []\n",
    "\n",
    "\tfor i in range(0,rows,piece_rows):\n",
    "\t\tfor j in range(0,cols,piece_cols):\n",
    "\t\t\tpieces.append(img[i:i + piece_rows,j:j + piece_cols].copy())\n",
    "\t\n",
    "\tpieces_ind = [i for i in range(len(pieces))]\n",
    "\trandom.shuffle(pieces_ind)\n",
    "\tshuffled_pieces = [pieces[i] for i in pieces_ind]\n",
    "\n",
    "\n",
    "\t# index = 0\n",
    "\n",
    "\t# for i in range(0,rows,piece_rows):\n",
    "\t# \tfor j in range(0,cols,piece_cols):\n",
    "\t# \t\tnew_image[i:i + piece_rows,j:j + piece_cols] = shuffled_pieces[index]\n",
    "\t# \t\tindex += 1\n",
    "\n",
    "\t# cv2.imwrite(\"jumbled.jpg\",new_image)\n",
    "\treturn shuffled_pieces, pieces_ind\n"
   ]
  },
  {
   "cell_type": "code",
   "execution_count": null,
   "metadata": {},
   "outputs": [],
   "source": [
    "img = cv2.imread(\"lfw_5590/Aaron_Eckhart_0001.jpg\")\n",
    "windowSize=2\n",
    "shuffle_image(img,windowSize)"
   ]
  },
  {
   "cell_type": "code",
   "execution_count": 7,
   "metadata": {},
   "outputs": [],
   "source": [
    "class FaceDataset(Dataset):\n",
    "\tdef __init__(self,img_dir,windowSize,transform=None):\n",
    "\t\tself.img_dir = img_dir\n",
    "\t\tself.img_list = os.listdir(img_dir)\n",
    "\t\tself.transform = transform\n",
    "\t\tself.windowSize = windowSize\n",
    "\n",
    "\tdef __len__(self):\n",
    "\t\treturn len(self.img_list)\n",
    "\n",
    "\tdef __getitem__(self,index):\n",
    "\t\timg = cv2.imread(self.img_dir + \"/\" + self.img_list[index])\n",
    "\t\tpieces, order = shuffle_image(img,self.windowSize)\n",
    "\t\torder = torch.tensor([int(x) for x in order])\n",
    "\t\tif self.transform:\n",
    "\t\t\tpieces = [self.transform(piece) for piece in pieces]\n",
    "\n",
    "\t\treturn pieces, order\n",
    "\t\t\t"
   ]
  },
  {
   "cell_type": "code",
   "execution_count": 8,
   "metadata": {},
   "outputs": [],
   "source": [
    "batch_size = 32\n",
    "\n",
    "dataset = FaceDataset(img_dir=\"lfw_5590\",windowSize=2,transform=transforms.ToTensor())\n",
    "train_set, test_set = torch.utils.data.random_split(dataset,[4400,1190])\n",
    "train_loader = DataLoader(dataset=train_set,batch_size=batch_size,shuffle=True)\n",
    "test_loader =  DataLoader(dataset=test_set,batch_size=batch_size,shuffle=True)"
   ]
  },
  {
   "cell_type": "code",
   "execution_count": 9,
   "metadata": {},
   "outputs": [],
   "source": [
    "train_features, train_labels = next(iter(train_loader))"
   ]
  },
  {
   "cell_type": "code",
   "execution_count": null,
   "metadata": {},
   "outputs": [],
   "source": []
  }
 ],
 "metadata": {
  "interpreter": {
   "hash": "53da3cce12b4bf7c3353bf3ddf5a074c1539c425e7aae715badfe271e4312902"
  },
  "kernelspec": {
   "display_name": "Python 3",
   "language": "python",
   "name": "python3"
  },
  "language_info": {
   "codemirror_mode": {
    "name": "ipython",
    "version": 3
   },
   "file_extension": ".py",
   "mimetype": "text/x-python",
   "name": "python",
   "nbconvert_exporter": "python",
   "pygments_lexer": "ipython3",
   "version": "3.10.2"
  }
 },
 "nbformat": 4,
 "nbformat_minor": 2
}
